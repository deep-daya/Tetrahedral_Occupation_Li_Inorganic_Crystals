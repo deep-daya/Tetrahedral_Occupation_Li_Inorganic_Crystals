{
 "cells": [
  {
   "cell_type": "code",
   "execution_count": 2,
   "metadata": {},
   "outputs": [],
   "source": [
    "import numpy as np\n",
    "import pandas as pd\n",
    "import json\n",
    "import os\n",
    "import seaborn as sns\n",
    "import numpy as np\n",
    "from pymatgen.core import Structure\n",
    "from pymatgen.ext.matproj import MPRester\n",
    "from pymatgen.core.composition import *\n",
    "from pymatgen.analysis.chemenv.coordination_environments.coordination_geometry_finder import LocalGeometryFinder\n",
    "from pymatgen.analysis.chemenv.coordination_environments.structure_environments import LightStructureEnvironments\n",
    "from pymatgen.analysis.chemenv.coordination_environments.chemenv_strategies import SimplestChemenvStrategy\n",
    "from scipy.spatial import ConvexHull\n",
    "from pymatgen.core.periodic_table import *\n",
    "%matplotlib inline"
   ]
  },
  {
   "cell_type": "markdown",
   "metadata": {},
   "source": [
    "### Initial database : Materials project Ternary Li-oxides (Total of 1,830 structures to start with)\n",
    "<br>\n",
    "A portion of these will be removed in cases of (1) not contain any occupied tetrahedrla site, (2) have energy above hull (stability) above 50 meV/atom, (3) oxidation states cannot be automatically labeled (meaning that the compound is not easy to identify as an ionic crystal)."
   ]
  },
  {
   "cell_type": "markdown",
   "metadata": {},
   "source": [
    "### After removing structures that have higher than 50 meV/atom above hull, we get 735 entries left."
   ]
  },
  {
   "cell_type": "markdown",
   "metadata": {},
   "source": [
    "### Next, I have exclude entries where the Li can sit in multiple sites OR X can sit in multiple sites OR Li and X sit in the same site.\n",
    "<br>\n",
    "Also, entries that DO NOT have any species that occupy a tetrahedral site are excluded.\n",
    "\n",
    "<br>\n",
    "This ends up with 113 final entries. All of these composition can be written as Li-X-O ternary lithium oxides. This is smaller than the initial database that we started with (1,830). This definitely is larger than the required minimum in the guideline. However, if we want to have a larger database, there are a few ways we can increase the size of our data. \n",
    "<br>\n",
    "(1) Increase the E above hull constraint so that we allow higher E above hull (perhaps up to 80 meV/atom). \n",
    "<br>\n",
    "(2) Exclude less entries in the process: This is doable, but I am not sure how this would affect the fitting.\n",
    "<br> "
   ]
  },
  {
   "cell_type": "code",
   "execution_count": 5,
   "metadata": {},
   "outputs": [],
   "source": [
    "df = pd.read_pickle(\"Tetrahedral-Dataset_V2.pickle\")"
   ]
  },
  {
   "cell_type": "code",
   "execution_count": 6,
   "metadata": {},
   "outputs": [
    {
     "data": {
      "text/html": [
       "<div>\n",
       "<style scoped>\n",
       "    .dataframe tbody tr th:only-of-type {\n",
       "        vertical-align: middle;\n",
       "    }\n",
       "\n",
       "    .dataframe tbody tr th {\n",
       "        vertical-align: top;\n",
       "    }\n",
       "\n",
       "    .dataframe thead th {\n",
       "        text-align: right;\n",
       "    }\n",
       "</style>\n",
       "<table border=\"1\" class=\"dataframe\">\n",
       "  <thead>\n",
       "    <tr style=\"text-align: right;\">\n",
       "      <th></th>\n",
       "      <th>mpid</th>\n",
       "      <th>struct</th>\n",
       "      <th>formula</th>\n",
       "      <th>X_species</th>\n",
       "      <th>tet_li</th>\n",
       "      <th>tet_X</th>\n",
       "      <th>Tetrahedral Occupancy</th>\n",
       "      <th>Tetrahedral Volume</th>\n",
       "      <th>Competing Volume</th>\n",
       "      <th>Competing Environment</th>\n",
       "      <th>X_charge</th>\n",
       "      <th>X Ionic Radius</th>\n",
       "      <th>X Atomic Radius</th>\n",
       "      <th>X Electronegativity</th>\n",
       "    </tr>\n",
       "  </thead>\n",
       "  <tbody>\n",
       "    <tr>\n",
       "      <td>0</td>\n",
       "      <td>mp-1019724</td>\n",
       "      <td>{'@module': 'pymatgen.core.structure', '@class...</td>\n",
       "      <td>LiEuO2</td>\n",
       "      <td>Eu</td>\n",
       "      <td>{'oct': [], 'tet': [{'csm': 1.575, 'env': 'T:4...</td>\n",
       "      <td>{'oct': [{'csm': 0.576, 'env': 'O:6', 'volume'...</td>\n",
       "      <td>Li</td>\n",
       "      <td>4.250468</td>\n",
       "      <td>17.373056</td>\n",
       "      <td>O:6</td>\n",
       "      <td>3.000000</td>\n",
       "      <td>1.087</td>\n",
       "      <td>2.31</td>\n",
       "      <td>1.20</td>\n",
       "    </tr>\n",
       "    <tr>\n",
       "      <td>1</td>\n",
       "      <td>mp-1020012</td>\n",
       "      <td>{'@module': 'pymatgen.core.structure', '@class...</td>\n",
       "      <td>Li2Ge4O9</td>\n",
       "      <td>Ge</td>\n",
       "      <td>{'oct': [], 'tet': [], 'other': [{'csm': 1.345...</td>\n",
       "      <td>{'oct': [{'csm': 0.162, 'env': 'O:6', 'volume'...</td>\n",
       "      <td>Ge</td>\n",
       "      <td>2.911377</td>\n",
       "      <td>6.031204</td>\n",
       "      <td>S:5</td>\n",
       "      <td>4.000000</td>\n",
       "      <td>0.670</td>\n",
       "      <td>1.25</td>\n",
       "      <td>2.01</td>\n",
       "    </tr>\n",
       "    <tr>\n",
       "      <td>2</td>\n",
       "      <td>mp-10620</td>\n",
       "      <td>{'@module': 'pymatgen.core.structure', '@class...</td>\n",
       "      <td>LiPrO2</td>\n",
       "      <td>Pr</td>\n",
       "      <td>{'oct': [], 'tet': [{'csm': 2.757, 'env': 'T:4...</td>\n",
       "      <td>{'oct': [], 'tet': [], 'other': [{'csm': 1.622...</td>\n",
       "      <td>Li</td>\n",
       "      <td>3.913044</td>\n",
       "      <td>22.408003</td>\n",
       "      <td>ST:7</td>\n",
       "      <td>3.000000</td>\n",
       "      <td>1.130</td>\n",
       "      <td>2.47</td>\n",
       "      <td>1.13</td>\n",
       "    </tr>\n",
       "    <tr>\n",
       "      <td>3</td>\n",
       "      <td>mp-1172980</td>\n",
       "      <td>{'@module': 'pymatgen.core.structure', '@class...</td>\n",
       "      <td>Li17(CoO4)3</td>\n",
       "      <td>Co</td>\n",
       "      <td>{'oct': [], 'tet': [], 'other': [{'csm': 16.90...</td>\n",
       "      <td>{'oct': [], 'tet': [{'csm': 1.42, 'env': 'T:4'...</td>\n",
       "      <td>Co</td>\n",
       "      <td>3.995332</td>\n",
       "      <td>13.048954</td>\n",
       "      <td>BO_2:8</td>\n",
       "      <td>2.333333</td>\n",
       "      <td>0.885</td>\n",
       "      <td>1.52</td>\n",
       "      <td>1.88</td>\n",
       "    </tr>\n",
       "    <tr>\n",
       "      <td>4</td>\n",
       "      <td>mp-1176738</td>\n",
       "      <td>{'@module': 'pymatgen.core.structure', '@class...</td>\n",
       "      <td>LiMn7O14</td>\n",
       "      <td>Mn</td>\n",
       "      <td>{'oct': [], 'tet': [{'csm': 0.051, 'env': 'T:4...</td>\n",
       "      <td>{'oct': [{'csm': 0.749, 'env': 'O:6', 'volume'...</td>\n",
       "      <td>Li</td>\n",
       "      <td>4.025109</td>\n",
       "      <td>9.711415</td>\n",
       "      <td>O:6</td>\n",
       "      <td>3.857143</td>\n",
       "      <td>0.670</td>\n",
       "      <td>1.61</td>\n",
       "      <td>1.55</td>\n",
       "    </tr>\n",
       "  </tbody>\n",
       "</table>\n",
       "</div>"
      ],
      "text/plain": [
       "         mpid                                             struct      formula  \\\n",
       "0  mp-1019724  {'@module': 'pymatgen.core.structure', '@class...       LiEuO2   \n",
       "1  mp-1020012  {'@module': 'pymatgen.core.structure', '@class...     Li2Ge4O9   \n",
       "2    mp-10620  {'@module': 'pymatgen.core.structure', '@class...       LiPrO2   \n",
       "3  mp-1172980  {'@module': 'pymatgen.core.structure', '@class...  Li17(CoO4)3   \n",
       "4  mp-1176738  {'@module': 'pymatgen.core.structure', '@class...     LiMn7O14   \n",
       "\n",
       "  X_species                                             tet_li  \\\n",
       "0        Eu  {'oct': [], 'tet': [{'csm': 1.575, 'env': 'T:4...   \n",
       "1        Ge  {'oct': [], 'tet': [], 'other': [{'csm': 1.345...   \n",
       "2        Pr  {'oct': [], 'tet': [{'csm': 2.757, 'env': 'T:4...   \n",
       "3        Co  {'oct': [], 'tet': [], 'other': [{'csm': 16.90...   \n",
       "4        Mn  {'oct': [], 'tet': [{'csm': 0.051, 'env': 'T:4...   \n",
       "\n",
       "                                               tet_X Tetrahedral Occupancy  \\\n",
       "0  {'oct': [{'csm': 0.576, 'env': 'O:6', 'volume'...                    Li   \n",
       "1  {'oct': [{'csm': 0.162, 'env': 'O:6', 'volume'...                    Ge   \n",
       "2  {'oct': [], 'tet': [], 'other': [{'csm': 1.622...                    Li   \n",
       "3  {'oct': [], 'tet': [{'csm': 1.42, 'env': 'T:4'...                    Co   \n",
       "4  {'oct': [{'csm': 0.749, 'env': 'O:6', 'volume'...                    Li   \n",
       "\n",
       "   Tetrahedral Volume  Competing Volume Competing Environment  X_charge  \\\n",
       "0            4.250468         17.373056                   O:6  3.000000   \n",
       "1            2.911377          6.031204                   S:5  4.000000   \n",
       "2            3.913044         22.408003                  ST:7  3.000000   \n",
       "3            3.995332         13.048954                BO_2:8  2.333333   \n",
       "4            4.025109          9.711415                   O:6  3.857143   \n",
       "\n",
       "   X Ionic Radius  X Atomic Radius  X Electronegativity  \n",
       "0           1.087             2.31                 1.20  \n",
       "1           0.670             1.25                 2.01  \n",
       "2           1.130             2.47                 1.13  \n",
       "3           0.885             1.52                 1.88  \n",
       "4           0.670             1.61                 1.55  "
      ]
     },
     "execution_count": 6,
     "metadata": {},
     "output_type": "execute_result"
    }
   ],
   "source": [
    "df.head()"
   ]
  },
  {
   "cell_type": "code",
   "execution_count": 8,
   "metadata": {},
   "outputs": [
    {
     "name": "stdout",
     "output_type": "stream",
     "text": [
      "Number of data:  113\n"
     ]
    }
   ],
   "source": [
    "print(\"Number of data: \", len(df))"
   ]
  },
  {
   "cell_type": "markdown",
   "metadata": {},
   "source": [
    "### The dataframe is loaded into \"df\", which was saved into Tetrahedral-Dataset_V2.pickle file, also included in this folder.\n",
    "* The y vector should be made from the column \"Tetrahedral Occupancy\". We would give \"1\" if this column value is \"Li\" (meaning that the tetrahedral site is occupied to lithium) and \"0\" if this column is not \"Li\" (meaning that another cation occupies the tetrahedral site in this structure).\n",
    "* (1) Feature 1 : Tetrahedral volume (unit in $\\unicode{x212B}^3$)\n",
    "* (2) Feature 2 : Competing volume (unit in $\\unicode{x212B}^3$) - Smaller coefficient is expected for this part since this is a general volume for all kinds of coordination environments (cubic, 12-coordination, etc).\n",
    "* (3) Feature 3 : Electronegativity of X\n",
    "* (4) Feature 4 : Ionic radius of X - Since we are focused on the competition between Li and other cation for a given tetrahedral site, we may even convert this value to the ratio of radius ($r_X/r_{Li}$). We can decide later, or we can quickly add an additional column.\n",
    "* (5) Feature 5 : Atomic radius of X - This will be less relevant than the ionic radius, but is still included. This can also be converted to the ratio of radius.\n",
    "* (6) Feature 6 : One-hot encoding for different parts of periodic table, such as: \"Is it a transition metal?\", \"Is it an Alkali metal?\", \"Is it an Alkali earth metal?\", \"Is it rare earth?\"\n",
    "* (7) We can add the row and column of the X element in the periodic table."
   ]
  },
  {
   "cell_type": "code",
   "execution_count": null,
   "metadata": {},
   "outputs": [],
   "source": []
  }
 ],
 "metadata": {
  "kernelspec": {
   "display_name": "Python 3",
   "language": "python",
   "name": "python3"
  },
  "language_info": {
   "codemirror_mode": {
    "name": "ipython",
    "version": 3
   },
   "file_extension": ".py",
   "mimetype": "text/x-python",
   "name": "python",
   "nbconvert_exporter": "python",
   "pygments_lexer": "ipython3",
   "version": "3.7.3"
  }
 },
 "nbformat": 4,
 "nbformat_minor": 4
}
